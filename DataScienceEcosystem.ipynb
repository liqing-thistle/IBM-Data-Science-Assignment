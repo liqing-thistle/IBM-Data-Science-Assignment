{
 "cells": [
  {
   "cell_type": "markdown",
   "id": "0aad84f2-d701-48c0-99f7-868bff4d52d6",
   "metadata": {},
   "source": [
    "# Data Science Tools and Ecosystem"
   ]
  },
  {
   "cell_type": "markdown",
   "id": "7c3ed133-f571-464e-be0a-7c231158f174",
   "metadata": {},
   "source": [
    "## Author\n",
    "Haha"
   ]
  },
  {
   "cell_type": "markdown",
   "id": "e8fd0383-bac6-4e74-816c-af1b705daf20",
   "metadata": {},
   "source": [
    "In this notebook, Data Science Tools and Ecosystem are summarized."
   ]
  },
  {
   "cell_type": "markdown",
   "id": "ddfcccfb-c0a9-49d3-bdd4-6e24bcbce545",
   "metadata": {},
   "source": [
    "***Objectives***:\n",
    "* List popular languages for Data Science\n",
    "* List popular libraries for Data Science\n",
    "* List popular tools for Data Science"
   ]
  },
  {
   "cell_type": "markdown",
   "id": "3a8dcfe8-6ecf-4800-bfba-df31c768f614",
   "metadata": {},
   "source": [
    "Some of the popula rlanguages that Data Scientists use are:\n",
    "1. python\n",
    "2. R\n",
    "3. SQL"
   ]
  },
  {
   "cell_type": "markdown",
   "id": "55e7cc9b-b96a-4c74-96ba-e231d4d5a04d",
   "metadata": {},
   "source": [
    "Some of the commonly used libraries used by Data Scientists include:\n",
    "1. Numpy\n",
    "2. Pandas\n",
    "3. Matplotlib"
   ]
  },
  {
   "cell_type": "markdown",
   "id": "ea55b347-3e91-40d5-a4a3-c50e461b6d7b",
   "metadata": {},
   "source": [
    "|Data Science Tools|\n",
    "|------------------|\n",
    "|Jupyter Notebook|\n",
    "|Rstudio|\n",
    "|Anaconda|"
   ]
  },
  {
   "cell_type": "markdown",
   "id": "a55e426b-882b-43f5-8d99-19622a47d978",
   "metadata": {},
   "source": [
    "### Below are a few examples of evaluating arithmetic expresssions in Python"
   ]
  },
  {
   "cell_type": "code",
   "execution_count": 2,
   "id": "204d2949-dc0e-470a-a7d6-2fc92d812fa3",
   "metadata": {},
   "outputs": [
    {
     "data": {
      "text/plain": [
       "17"
      ]
     },
     "execution_count": 2,
     "metadata": {},
     "output_type": "execute_result"
    }
   ],
   "source": [
    "\"\"\"This is a simple arithmetic expression to mutiply then add intefers\"\"\"\n",
    "(3*4)+5"
   ]
  },
  {
   "cell_type": "code",
   "execution_count": 3,
   "id": "d790b6e8-3ebe-4398-b882-d9b41de21ba6",
   "metadata": {},
   "outputs": [
    {
     "data": {
      "text/plain": [
       "3.3333333333333335"
      ]
     },
     "execution_count": 3,
     "metadata": {},
     "output_type": "execute_result"
    }
   ],
   "source": [
    "\"\"\"THis will convert 200 minutes to hours by dividing by 60\"\"\"\n",
    "200/60"
   ]
  },
  {
   "cell_type": "markdown",
   "id": "c32f3ff7-2cbc-4710-b9fc-240c96f4dd69",
   "metadata": {},
   "source": []
  }
 ],
 "metadata": {
  "kernelspec": {
   "display_name": "Python 3 (ipykernel)",
   "language": "python",
   "name": "python3"
  },
  "language_info": {
   "codemirror_mode": {
    "name": "ipython",
    "version": 3
   },
   "file_extension": ".py",
   "mimetype": "text/x-python",
   "name": "python",
   "nbconvert_exporter": "python",
   "pygments_lexer": "ipython3",
   "version": "3.13.2"
  }
 },
 "nbformat": 4,
 "nbformat_minor": 5
}
